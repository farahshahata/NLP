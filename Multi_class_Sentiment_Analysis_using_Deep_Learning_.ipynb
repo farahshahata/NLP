{
  "nbformat": 4,
  "nbformat_minor": 0,
  "metadata": {
    "kernelspec": {
      "name": "python3",
      "display_name": "Python 3"
    },
    "language_info": {
      "codemirror_mode": {
        "name": "ipython",
        "version": 3
      },
      "file_extension": ".py",
      "mimetype": "text/x-python",
      "name": "python",
      "nbconvert_exporter": "python",
      "pygments_lexer": "ipython3",
      "version": "3.6.6"
    },
    "colab": {
      "name": "Multi-class Sentiment Analysis using Deep Learning .ipynb",
      "provenance": [],
      "include_colab_link": true
    },
    "accelerator": "GPU"
  },
  "cells": [
    {
      "cell_type": "markdown",
      "metadata": {
        "id": "view-in-github",
        "colab_type": "text"
      },
      "source": [
        "<a href=\"https://colab.research.google.com/github/farahshahata/NLP/blob/master/Multi_class_Sentiment_Analysis_using_Deep_Learning_.ipynb\" target=\"_parent\"><img src=\"https://colab.research.google.com/assets/colab-badge.svg\" alt=\"Open In Colab\"/></a>"
      ]
    },
    {
      "cell_type": "markdown",
      "metadata": {
        "id": "QxxX9bcH8S5W",
        "colab_type": "text"
      },
      "source": [
        "## Multi-class Sentiment Analysis using Deep Learning using keras"
      ]
    },
    {
      "cell_type": "code",
      "metadata": {
        "_cell_guid": "b1076dfc-b9ad-4769-8c92-a6c4dae69d19",
        "_uuid": "8f2839f25d086af736a60e9eeb907d3b93b6e0e5",
        "id": "R1g4gkQxHJPs",
        "colab_type": "code",
        "outputId": "c6625b5b-5968-41d1-d1e7-003cdfb013e9",
        "colab": {
          "base_uri": "https://localhost:8080/",
          "height": 119
        }
      },
      "source": [
        "\n",
        "# Import the numpy library to work with and manipulate the data\n",
        "import numpy as np\n",
        "# Import the pandas library to read our dataset\n",
        "import pandas as pd\n",
        "\n",
        "import nltk\n",
        "import random\n",
        "nltk.download('punkt')\n",
        "nltk.download('stopwords')\n",
        "nltk.download('wordnet')\n",
        "from nltk.tokenize import word_tokenize"
      ],
      "execution_count": 73,
      "outputs": [
        {
          "output_type": "stream",
          "text": [
            "[nltk_data] Downloading package punkt to /root/nltk_data...\n",
            "[nltk_data]   Package punkt is already up-to-date!\n",
            "[nltk_data] Downloading package stopwords to /root/nltk_data...\n",
            "[nltk_data]   Package stopwords is already up-to-date!\n",
            "[nltk_data] Downloading package wordnet to /root/nltk_data...\n",
            "[nltk_data]   Package wordnet is already up-to-date!\n"
          ],
          "name": "stdout"
        }
      ]
    },
    {
      "cell_type": "code",
      "metadata": {
        "id": "hwG9021cHJQG",
        "colab_type": "code",
        "colab": {}
      },
      "source": [
        "\n",
        "import matplotlib.pyplot as plt\n",
        "import seaborn as sns\n",
        "#%matplotlib inline\n",
        "\n",
        "from nltk.tokenize import TweetTokenizer\n",
        "import datetime\n",
        "\n",
        "from scipy import stats\n",
        "from scipy.sparse import hstack, csr_matrix\n",
        "\n",
        "# Get the train/test split package from sklearn for preparing our dataset to\n",
        "# train and test the model with\n",
        "from sklearn.model_selection import train_test_split, cross_val_score\n",
        "\n",
        "from collections import Counter\n",
        "from nltk.corpus import stopwords\n",
        "from nltk.util import ngrams\n",
        "from sklearn.feature_extraction.text import TfidfVectorizer\n",
        "\n"
      ],
      "execution_count": 0,
      "outputs": []
    },
    {
      "cell_type": "markdown",
      "metadata": {
        "id": "IVZHJe8XHJP4",
        "colab_type": "text"
      },
      "source": [
        "## Import data"
      ]
    },
    {
      "cell_type": "code",
      "metadata": {
        "id": "lJDnWu57HJP6",
        "colab_type": "code",
        "colab": {}
      },
      "source": [
        "\n",
        "\n",
        "url=\"https://raw.githubusercontent.com/cacoderquan/Sentiment-Analysis-on-the-Rotten-Tomatoes-movie-review-dataset/master/train.tsv\"\n",
        "data = pd.read_csv(url, sep='\\t') \n",
        "\n"
      ],
      "execution_count": 0,
      "outputs": []
    },
    {
      "cell_type": "code",
      "metadata": {
        "id": "b2G0Jh6v1DwQ",
        "colab_type": "code",
        "outputId": "648d2772-6669-4c79-e559-10a7a0b2661e",
        "colab": {
          "base_uri": "https://localhost:8080/",
          "height": 359
        }
      },
      "source": [
        "\n",
        "data.head(10)"
      ],
      "execution_count": 76,
      "outputs": [
        {
          "output_type": "execute_result",
          "data": {
            "text/html": [
              "<div>\n",
              "<style scoped>\n",
              "    .dataframe tbody tr th:only-of-type {\n",
              "        vertical-align: middle;\n",
              "    }\n",
              "\n",
              "    .dataframe tbody tr th {\n",
              "        vertical-align: top;\n",
              "    }\n",
              "\n",
              "    .dataframe thead th {\n",
              "        text-align: right;\n",
              "    }\n",
              "</style>\n",
              "<table border=\"1\" class=\"dataframe\">\n",
              "  <thead>\n",
              "    <tr style=\"text-align: right;\">\n",
              "      <th></th>\n",
              "      <th>PhraseId</th>\n",
              "      <th>SentenceId</th>\n",
              "      <th>Phrase</th>\n",
              "      <th>Sentiment</th>\n",
              "    </tr>\n",
              "  </thead>\n",
              "  <tbody>\n",
              "    <tr>\n",
              "      <th>0</th>\n",
              "      <td>1</td>\n",
              "      <td>1</td>\n",
              "      <td>A series of escapades demonstrating the adage ...</td>\n",
              "      <td>1</td>\n",
              "    </tr>\n",
              "    <tr>\n",
              "      <th>1</th>\n",
              "      <td>2</td>\n",
              "      <td>1</td>\n",
              "      <td>A series of escapades demonstrating the adage ...</td>\n",
              "      <td>2</td>\n",
              "    </tr>\n",
              "    <tr>\n",
              "      <th>2</th>\n",
              "      <td>3</td>\n",
              "      <td>1</td>\n",
              "      <td>A series</td>\n",
              "      <td>2</td>\n",
              "    </tr>\n",
              "    <tr>\n",
              "      <th>3</th>\n",
              "      <td>4</td>\n",
              "      <td>1</td>\n",
              "      <td>A</td>\n",
              "      <td>2</td>\n",
              "    </tr>\n",
              "    <tr>\n",
              "      <th>4</th>\n",
              "      <td>5</td>\n",
              "      <td>1</td>\n",
              "      <td>series</td>\n",
              "      <td>2</td>\n",
              "    </tr>\n",
              "    <tr>\n",
              "      <th>5</th>\n",
              "      <td>6</td>\n",
              "      <td>1</td>\n",
              "      <td>of escapades demonstrating the adage that what...</td>\n",
              "      <td>2</td>\n",
              "    </tr>\n",
              "    <tr>\n",
              "      <th>6</th>\n",
              "      <td>7</td>\n",
              "      <td>1</td>\n",
              "      <td>of</td>\n",
              "      <td>2</td>\n",
              "    </tr>\n",
              "    <tr>\n",
              "      <th>7</th>\n",
              "      <td>8</td>\n",
              "      <td>1</td>\n",
              "      <td>escapades demonstrating the adage that what is...</td>\n",
              "      <td>2</td>\n",
              "    </tr>\n",
              "    <tr>\n",
              "      <th>8</th>\n",
              "      <td>9</td>\n",
              "      <td>1</td>\n",
              "      <td>escapades</td>\n",
              "      <td>2</td>\n",
              "    </tr>\n",
              "    <tr>\n",
              "      <th>9</th>\n",
              "      <td>10</td>\n",
              "      <td>1</td>\n",
              "      <td>demonstrating the adage that what is good for ...</td>\n",
              "      <td>2</td>\n",
              "    </tr>\n",
              "  </tbody>\n",
              "</table>\n",
              "</div>"
            ],
            "text/plain": [
              "   PhraseId  ...  Sentiment\n",
              "0         1  ...          1\n",
              "1         2  ...          2\n",
              "2         3  ...          2\n",
              "3         4  ...          2\n",
              "4         5  ...          2\n",
              "5         6  ...          2\n",
              "6         7  ...          2\n",
              "7         8  ...          2\n",
              "8         9  ...          2\n",
              "9        10  ...          2\n",
              "\n",
              "[10 rows x 4 columns]"
            ]
          },
          "metadata": {
            "tags": []
          },
          "execution_count": 76
        }
      ]
    },
    {
      "cell_type": "markdown",
      "metadata": {
        "id": "3dcUT8a37l6C",
        "colab_type": "text"
      },
      "source": [
        "## Splitting the dataset into train and test"
      ]
    },
    {
      "cell_type": "code",
      "metadata": {
        "id": "EJXwivQUmxS3",
        "colab_type": "code",
        "colab": {}
      },
      "source": [
        "train, test = train_test_split(data, test_size=0.3, random_state=2003)"
      ],
      "execution_count": 0,
      "outputs": []
    },
    {
      "cell_type": "code",
      "metadata": {
        "id": "AZPARaYbHJP8",
        "colab_type": "code",
        "outputId": "c46858d5-7159-4350-926a-17c1a52293e5",
        "colab": {
          "base_uri": "https://localhost:8080/",
          "height": 34
        }
      },
      "source": [
        "data['Sentiment'].unique()"
      ],
      "execution_count": 78,
      "outputs": [
        {
          "output_type": "execute_result",
          "data": {
            "text/plain": [
              "array([1, 2, 3, 4, 0])"
            ]
          },
          "metadata": {
            "tags": []
          },
          "execution_count": 78
        }
      ]
    },
    {
      "cell_type": "code",
      "metadata": {
        "id": "8tnXcPTHo_uX",
        "colab_type": "code",
        "outputId": "057ea507-eee3-429a-9560-957f46c2f18b",
        "colab": {
          "base_uri": "https://localhost:8080/",
          "height": 255
        }
      },
      "source": [
        "all_data = pd.DataFrame(data,\n",
        "                            columns=['Phrase', 'Sentiment'])\n",
        "print(all_data)"
      ],
      "execution_count": 79,
      "outputs": [
        {
          "output_type": "stream",
          "text": [
            "                                                   Phrase  Sentiment\n",
            "0       A series of escapades demonstrating the adage ...          1\n",
            "1       A series of escapades demonstrating the adage ...          2\n",
            "2                                                A series          2\n",
            "3                                                       A          2\n",
            "4                                                  series          2\n",
            "...                                                   ...        ...\n",
            "156055                                          Hearst 's          2\n",
            "156056                          forced avuncular chortles          1\n",
            "156057                                 avuncular chortles          3\n",
            "156058                                          avuncular          2\n",
            "156059                                           chortles          2\n",
            "\n",
            "[156060 rows x 2 columns]\n"
          ],
          "name": "stdout"
        }
      ]
    },
    {
      "cell_type": "code",
      "metadata": {
        "id": "OzRjJjj0HJQB",
        "colab_type": "code",
        "outputId": "fa59ece5-1216-43f9-bb2b-a2136f2801b6",
        "colab": {
          "base_uri": "https://localhost:8080/",
          "height": 297
        }
      },
      "source": [
        "data.describe()"
      ],
      "execution_count": 80,
      "outputs": [
        {
          "output_type": "execute_result",
          "data": {
            "text/html": [
              "<div>\n",
              "<style scoped>\n",
              "    .dataframe tbody tr th:only-of-type {\n",
              "        vertical-align: middle;\n",
              "    }\n",
              "\n",
              "    .dataframe tbody tr th {\n",
              "        vertical-align: top;\n",
              "    }\n",
              "\n",
              "    .dataframe thead th {\n",
              "        text-align: right;\n",
              "    }\n",
              "</style>\n",
              "<table border=\"1\" class=\"dataframe\">\n",
              "  <thead>\n",
              "    <tr style=\"text-align: right;\">\n",
              "      <th></th>\n",
              "      <th>PhraseId</th>\n",
              "      <th>SentenceId</th>\n",
              "      <th>Sentiment</th>\n",
              "    </tr>\n",
              "  </thead>\n",
              "  <tbody>\n",
              "    <tr>\n",
              "      <th>count</th>\n",
              "      <td>156060.000000</td>\n",
              "      <td>156060.000000</td>\n",
              "      <td>156060.000000</td>\n",
              "    </tr>\n",
              "    <tr>\n",
              "      <th>mean</th>\n",
              "      <td>78030.500000</td>\n",
              "      <td>4079.732744</td>\n",
              "      <td>2.063578</td>\n",
              "    </tr>\n",
              "    <tr>\n",
              "      <th>std</th>\n",
              "      <td>45050.785842</td>\n",
              "      <td>2502.764394</td>\n",
              "      <td>0.893832</td>\n",
              "    </tr>\n",
              "    <tr>\n",
              "      <th>min</th>\n",
              "      <td>1.000000</td>\n",
              "      <td>1.000000</td>\n",
              "      <td>0.000000</td>\n",
              "    </tr>\n",
              "    <tr>\n",
              "      <th>25%</th>\n",
              "      <td>39015.750000</td>\n",
              "      <td>1861.750000</td>\n",
              "      <td>2.000000</td>\n",
              "    </tr>\n",
              "    <tr>\n",
              "      <th>50%</th>\n",
              "      <td>78030.500000</td>\n",
              "      <td>4017.000000</td>\n",
              "      <td>2.000000</td>\n",
              "    </tr>\n",
              "    <tr>\n",
              "      <th>75%</th>\n",
              "      <td>117045.250000</td>\n",
              "      <td>6244.000000</td>\n",
              "      <td>3.000000</td>\n",
              "    </tr>\n",
              "    <tr>\n",
              "      <th>max</th>\n",
              "      <td>156060.000000</td>\n",
              "      <td>8544.000000</td>\n",
              "      <td>4.000000</td>\n",
              "    </tr>\n",
              "  </tbody>\n",
              "</table>\n",
              "</div>"
            ],
            "text/plain": [
              "            PhraseId     SentenceId      Sentiment\n",
              "count  156060.000000  156060.000000  156060.000000\n",
              "mean    78030.500000    4079.732744       2.063578\n",
              "std     45050.785842    2502.764394       0.893832\n",
              "min         1.000000       1.000000       0.000000\n",
              "25%     39015.750000    1861.750000       2.000000\n",
              "50%     78030.500000    4017.000000       2.000000\n",
              "75%    117045.250000    6244.000000       3.000000\n",
              "max    156060.000000    8544.000000       4.000000"
            ]
          },
          "metadata": {
            "tags": []
          },
          "execution_count": 80
        }
      ]
    },
    {
      "cell_type": "code",
      "metadata": {
        "id": "pya6K2CLHJQE",
        "colab_type": "code",
        "outputId": "2d885fa6-128e-4dae-d17d-b94d768f66b4",
        "colab": {
          "base_uri": "https://localhost:8080/",
          "height": 34
        }
      },
      "source": [
        "data.shape\n"
      ],
      "execution_count": 81,
      "outputs": [
        {
          "output_type": "execute_result",
          "data": {
            "text/plain": [
              "(156060, 4)"
            ]
          },
          "metadata": {
            "tags": []
          },
          "execution_count": 81
        }
      ]
    },
    {
      "cell_type": "code",
      "metadata": {
        "id": "QGnq5E37X8KB",
        "colab_type": "code",
        "outputId": "875a8f09-32a4-4056-e8ee-e8790bc3e5aa",
        "colab": {
          "base_uri": "https://localhost:8080/",
          "height": 170
        }
      },
      "source": [
        "data.info()"
      ],
      "execution_count": 82,
      "outputs": [
        {
          "output_type": "stream",
          "text": [
            "<class 'pandas.core.frame.DataFrame'>\n",
            "RangeIndex: 156060 entries, 0 to 156059\n",
            "Data columns (total 4 columns):\n",
            "PhraseId      156060 non-null int64\n",
            "SentenceId    156060 non-null int64\n",
            "Phrase        156060 non-null object\n",
            "Sentiment     156060 non-null int64\n",
            "dtypes: int64(3), object(1)\n",
            "memory usage: 4.8+ MB\n"
          ],
          "name": "stdout"
        }
      ]
    },
    {
      "cell_type": "markdown",
      "metadata": {
        "id": "rESOTQdsHJQJ",
        "colab_type": "text"
      },
      "source": [
        "## Cleaning the data"
      ]
    },
    {
      "cell_type": "code",
      "metadata": {
        "id": "DqvNbT3IHJQK",
        "colab_type": "code",
        "colab": {}
      },
      "source": [
        "\n",
        "from nltk.tokenize import word_tokenize\n",
        "from nltk import FreqDist\n",
        "from nltk.stem import SnowballStemmer,WordNetLemmatizer\n",
        "stemmer=SnowballStemmer('english')\n",
        "lemma=WordNetLemmatizer()\n",
        "from string import punctuation\n",
        "import re"
      ],
      "execution_count": 0,
      "outputs": []
    },
    {
      "cell_type": "code",
      "metadata": {
        "id": "gbxcyJBYHJQO",
        "colab_type": "code",
        "colab": {}
      },
      "source": [
        "# vectorizer = TfidfVectorizer(ngram_range=(1,2),tokenizer=tokenizer.tokenize)\n",
        "# X = vectorizer.fit_transform(df['cleaned'])"
      ],
      "execution_count": 0,
      "outputs": []
    },
    {
      "cell_type": "code",
      "metadata": {
        "id": "_E1AX8-lHJQR",
        "colab_type": "code",
        "colab": {}
      },
      "source": [
        "\n",
        "def clean_review(review_col):\n",
        "    review_corpus=[]\n",
        "    for i in range(0,len(review_col)):\n",
        "        review=str(review_col[i])\n",
        "        review=re.sub('[^a-zA-Z]',' ',review)\n",
        "        \n",
        "        review=[lemma.lemmatize(w) for w in word_tokenize(str(review).lower())]\n",
        "        review=' '.join(review)\n",
        "        review_corpus.append(review)\n",
        "    return review_corpus"
      ],
      "execution_count": 0,
      "outputs": []
    },
    {
      "cell_type": "code",
      "metadata": {
        "id": "6R0LMxgyI5yZ",
        "colab_type": "code",
        "outputId": "b28762f8-3411-46af-8074-55faa1a0d035",
        "colab": {
          "base_uri": "https://localhost:8080/",
          "height": 34
        }
      },
      "source": [
        "#def test123:\n",
        "from nltk.corpus import stopwords\n",
        "from nltk.stem import WordNetLemmatizer, PorterStemmer, LancasterStemmer\n",
        "porter = PorterStemmer()\n",
        "lancaster=LancasterStemmer()\n",
        "wordnet_lemmatizer = WordNetLemmatizer()\n",
        "stopwords_en = stopwords.words(\"english\")\n",
        "punctuations=\"?:!.,;'\\\"-()\"\n",
        "\n",
        "#parameters to adjust to see the impact on outcome\n",
        "remove_stopwords = True\n",
        "useStemming = True\n",
        "useLemma = False\n",
        "removePuncs = True\n",
        "\n",
        "documents = train.Phrase.values\n",
        "\n",
        "for l in range(len(documents)):\n",
        "  tmpReview = []\n",
        "  for w in word_tokenize(documents[l]):\n",
        "    newWord = w\n",
        "    if remove_stopwords and (w in stopwords_en):\n",
        "      continue\n",
        "    if removePuncs and (w in punctuations):\n",
        "      continue\n",
        "    if useStemming:\n",
        "      #newWord = porter.stem(newWord)\n",
        "      newWord = lancaster.stem(newWord)\n",
        "    if useLemma:\n",
        "      newWord = wordnet_lemmatizer.lemmatize(newWord)\n",
        "    tmpReview.append(newWord)\n",
        "  documents[l] = (' '.join(tmpReview))\n",
        "print(documents[2])"
      ],
      "execution_count": 86,
      "outputs": [
        {
          "output_type": "stream",
          "text": [
            "fan gross-out comedy\n"
          ],
          "name": "stdout"
        }
      ]
    },
    {
      "cell_type": "code",
      "metadata": {
        "id": "p_Eaws_RHJQU",
        "colab_type": "code",
        "outputId": "1f4155ab-798e-43f9-e9c9-9e118d7bcbf9",
        "colab": {
          "base_uri": "https://localhost:8080/",
          "height": 306
        }
      },
      "source": [
        "\n",
        "train['clean_review']=clean_review(train.Phrase.values)\n",
        "train.head()\n"
      ],
      "execution_count": 87,
      "outputs": [
        {
          "output_type": "stream",
          "text": [
            "/usr/local/lib/python3.6/dist-packages/ipykernel_launcher.py:2: SettingWithCopyWarning: \n",
            "A value is trying to be set on a copy of a slice from a DataFrame.\n",
            "Try using .loc[row_indexer,col_indexer] = value instead\n",
            "\n",
            "See the caveats in the documentation: http://pandas.pydata.org/pandas-docs/stable/user_guide/indexing.html#returning-a-view-versus-a-copy\n",
            "  \n"
          ],
          "name": "stderr"
        },
        {
          "output_type": "execute_result",
          "data": {
            "text/html": [
              "<div>\n",
              "<style scoped>\n",
              "    .dataframe tbody tr th:only-of-type {\n",
              "        vertical-align: middle;\n",
              "    }\n",
              "\n",
              "    .dataframe tbody tr th {\n",
              "        vertical-align: top;\n",
              "    }\n",
              "\n",
              "    .dataframe thead th {\n",
              "        text-align: right;\n",
              "    }\n",
              "</style>\n",
              "<table border=\"1\" class=\"dataframe\">\n",
              "  <thead>\n",
              "    <tr style=\"text-align: right;\">\n",
              "      <th></th>\n",
              "      <th>PhraseId</th>\n",
              "      <th>SentenceId</th>\n",
              "      <th>Phrase</th>\n",
              "      <th>Sentiment</th>\n",
              "      <th>clean_review</th>\n",
              "    </tr>\n",
              "  </thead>\n",
              "  <tbody>\n",
              "    <tr>\n",
              "      <th>13718</th>\n",
              "      <td>13719</td>\n",
              "      <td>590</td>\n",
              "      <td>ag</td>\n",
              "      <td>2</td>\n",
              "      <td>ag</td>\n",
              "    </tr>\n",
              "    <tr>\n",
              "      <th>91191</th>\n",
              "      <td>91192</td>\n",
              "      <td>4744</td>\n",
              "      <td>gorg ep</td>\n",
              "      <td>4</td>\n",
              "      <td>gorg ep</td>\n",
              "    </tr>\n",
              "    <tr>\n",
              "      <th>97160</th>\n",
              "      <td>97161</td>\n",
              "      <td>5079</td>\n",
              "      <td>fan gross-out comedy</td>\n",
              "      <td>2</td>\n",
              "      <td>fan gross out comedy</td>\n",
              "    </tr>\n",
              "    <tr>\n",
              "      <th>143983</th>\n",
              "      <td>143984</td>\n",
              "      <td>7816</td>\n",
              "      <td>the filmmak ascend lit olymp art world</td>\n",
              "      <td>4</td>\n",
              "      <td>the filmmak ascend lit olymp art world</td>\n",
              "    </tr>\n",
              "    <tr>\n",
              "      <th>37501</th>\n",
              "      <td>37502</td>\n",
              "      <td>1781</td>\n",
              "      <td>twist mystery</td>\n",
              "      <td>2</td>\n",
              "      <td>twist mystery</td>\n",
              "    </tr>\n",
              "  </tbody>\n",
              "</table>\n",
              "</div>"
            ],
            "text/plain": [
              "        PhraseId  SentenceId  ... Sentiment                            clean_review\n",
              "13718      13719         590  ...         2                                      ag\n",
              "91191      91192        4744  ...         4                                 gorg ep\n",
              "97160      97161        5079  ...         2                    fan gross out comedy\n",
              "143983    143984        7816  ...         4  the filmmak ascend lit olymp art world\n",
              "37501      37502        1781  ...         2                           twist mystery\n",
              "\n",
              "[5 rows x 5 columns]"
            ]
          },
          "metadata": {
            "tags": []
          },
          "execution_count": 87
        }
      ]
    },
    {
      "cell_type": "code",
      "metadata": {
        "id": "_Zxva7n5adDk",
        "colab_type": "code",
        "outputId": "cb643937-fa3e-4821-9ae0-a2cdcf614c06",
        "colab": {
          "base_uri": "https://localhost:8080/",
          "height": 34
        }
      },
      "source": [
        "np.array(train).shape"
      ],
      "execution_count": 88,
      "outputs": [
        {
          "output_type": "execute_result",
          "data": {
            "text/plain": [
              "(109242, 5)"
            ]
          },
          "metadata": {
            "tags": []
          },
          "execution_count": 88
        }
      ]
    },
    {
      "cell_type": "code",
      "metadata": {
        "id": "zFzyJlP1HJQa",
        "colab_type": "code",
        "outputId": "ee02f917-49b4-40ba-aaa7-fa8eff819418",
        "colab": {
          "base_uri": "https://localhost:8080/",
          "height": 306
        }
      },
      "source": [
        "# Apply to test data\n",
        "test['clean_review']=clean_review(test.Phrase.values)\n",
        "test.head()"
      ],
      "execution_count": 89,
      "outputs": [
        {
          "output_type": "stream",
          "text": [
            "/usr/local/lib/python3.6/dist-packages/ipykernel_launcher.py:1: SettingWithCopyWarning: \n",
            "A value is trying to be set on a copy of a slice from a DataFrame.\n",
            "Try using .loc[row_indexer,col_indexer] = value instead\n",
            "\n",
            "See the caveats in the documentation: http://pandas.pydata.org/pandas-docs/stable/user_guide/indexing.html#returning-a-view-versus-a-copy\n",
            "  \"\"\"Entry point for launching an IPython kernel.\n"
          ],
          "name": "stderr"
        },
        {
          "output_type": "execute_result",
          "data": {
            "text/html": [
              "<div>\n",
              "<style scoped>\n",
              "    .dataframe tbody tr th:only-of-type {\n",
              "        vertical-align: middle;\n",
              "    }\n",
              "\n",
              "    .dataframe tbody tr th {\n",
              "        vertical-align: top;\n",
              "    }\n",
              "\n",
              "    .dataframe thead th {\n",
              "        text-align: right;\n",
              "    }\n",
              "</style>\n",
              "<table border=\"1\" class=\"dataframe\">\n",
              "  <thead>\n",
              "    <tr style=\"text-align: right;\">\n",
              "      <th></th>\n",
              "      <th>PhraseId</th>\n",
              "      <th>SentenceId</th>\n",
              "      <th>Phrase</th>\n",
              "      <th>Sentiment</th>\n",
              "      <th>clean_review</th>\n",
              "    </tr>\n",
              "  </thead>\n",
              "  <tbody>\n",
              "    <tr>\n",
              "      <th>13510</th>\n",
              "      <td>13511</td>\n",
              "      <td>581</td>\n",
              "      <td>veteran</td>\n",
              "      <td>3</td>\n",
              "      <td>veteran</td>\n",
              "    </tr>\n",
              "    <tr>\n",
              "      <th>61932</th>\n",
              "      <td>61933</td>\n",
              "      <td>3132</td>\n",
              "      <td>many definitions</td>\n",
              "      <td>2</td>\n",
              "      <td>many definition</td>\n",
              "    </tr>\n",
              "    <tr>\n",
              "      <th>82549</th>\n",
              "      <td>82550</td>\n",
              "      <td>4261</td>\n",
              "      <td>a worthwhile glimpse</td>\n",
              "      <td>3</td>\n",
              "      <td>a worthwhile glimpse</td>\n",
              "    </tr>\n",
              "    <tr>\n",
              "      <th>137718</th>\n",
              "      <td>137719</td>\n",
              "      <td>7453</td>\n",
              "      <td>past Seagal films</td>\n",
              "      <td>2</td>\n",
              "      <td>past seagal film</td>\n",
              "    </tr>\n",
              "    <tr>\n",
              "      <th>121990</th>\n",
              "      <td>121991</td>\n",
              "      <td>6539</td>\n",
              "      <td>banal script</td>\n",
              "      <td>1</td>\n",
              "      <td>banal script</td>\n",
              "    </tr>\n",
              "  </tbody>\n",
              "</table>\n",
              "</div>"
            ],
            "text/plain": [
              "        PhraseId  SentenceId  ... Sentiment          clean_review\n",
              "13510      13511         581  ...         3               veteran\n",
              "61932      61933        3132  ...         2       many definition\n",
              "82549      82550        4261  ...         3  a worthwhile glimpse\n",
              "137718    137719        7453  ...         2      past seagal film\n",
              "121990    121991        6539  ...         1          banal script\n",
              "\n",
              "[5 rows x 5 columns]"
            ]
          },
          "metadata": {
            "tags": []
          },
          "execution_count": 89
        }
      ]
    },
    {
      "cell_type": "markdown",
      "metadata": {
        "id": "_ja-xzDBHJQd",
        "colab_type": "text"
      },
      "source": [
        "## Processing data\n",
        "\n",
        "\n"
      ]
    },
    {
      "cell_type": "code",
      "metadata": {
        "id": "IJMKdWzRHJQd",
        "colab_type": "code",
        "colab": {}
      },
      "source": [
        "text = ' '.join(train.loc[train.Sentiment == 4, 'Phrase'].values)\n",
        "text_trigrams = [i for i in ngrams(text.split(), 3)]"
      ],
      "execution_count": 0,
      "outputs": []
    },
    {
      "cell_type": "code",
      "metadata": {
        "id": "kOqMQU8pHJQf",
        "colab_type": "code",
        "colab": {}
      },
      "source": [
        "text_bigrams = [i for i in ngrams(text.split(), 2)]"
      ],
      "execution_count": 0,
      "outputs": []
    },
    {
      "cell_type": "code",
      "metadata": {
        "id": "MK0r18gLHJQh",
        "colab_type": "code",
        "outputId": "036dcf33-4a17-4e11-ddda-0eb1ab507e1f",
        "colab": {
          "base_uri": "https://localhost:8080/",
          "height": 102
        }
      },
      "source": [
        "Counter(text_bigrams).most_common(5)"
      ],
      "execution_count": 92,
      "outputs": [
        {
          "output_type": "execute_result",
          "data": {
            "text/plain": [
              "[(('it', \"'s\"), 65),\n",
              " ((\"'s\", 'best'), 54),\n",
              " (('film', \"'s\"), 46),\n",
              " (('on', 'best'), 43),\n",
              " (('rom', 'comedy'), 40)]"
            ]
          },
          "metadata": {
            "tags": []
          },
          "execution_count": 92
        }
      ]
    },
    {
      "cell_type": "code",
      "metadata": {
        "id": "S79pVd965Sgr",
        "colab_type": "code",
        "outputId": "929c25f5-50e3-47b6-fad7-34d1c0908aac",
        "colab": {
          "base_uri": "https://localhost:8080/",
          "height": 297
        }
      },
      "source": [
        "data.describe()"
      ],
      "execution_count": 93,
      "outputs": [
        {
          "output_type": "execute_result",
          "data": {
            "text/html": [
              "<div>\n",
              "<style scoped>\n",
              "    .dataframe tbody tr th:only-of-type {\n",
              "        vertical-align: middle;\n",
              "    }\n",
              "\n",
              "    .dataframe tbody tr th {\n",
              "        vertical-align: top;\n",
              "    }\n",
              "\n",
              "    .dataframe thead th {\n",
              "        text-align: right;\n",
              "    }\n",
              "</style>\n",
              "<table border=\"1\" class=\"dataframe\">\n",
              "  <thead>\n",
              "    <tr style=\"text-align: right;\">\n",
              "      <th></th>\n",
              "      <th>PhraseId</th>\n",
              "      <th>SentenceId</th>\n",
              "      <th>Sentiment</th>\n",
              "    </tr>\n",
              "  </thead>\n",
              "  <tbody>\n",
              "    <tr>\n",
              "      <th>count</th>\n",
              "      <td>156060.000000</td>\n",
              "      <td>156060.000000</td>\n",
              "      <td>156060.000000</td>\n",
              "    </tr>\n",
              "    <tr>\n",
              "      <th>mean</th>\n",
              "      <td>78030.500000</td>\n",
              "      <td>4079.732744</td>\n",
              "      <td>2.063578</td>\n",
              "    </tr>\n",
              "    <tr>\n",
              "      <th>std</th>\n",
              "      <td>45050.785842</td>\n",
              "      <td>2502.764394</td>\n",
              "      <td>0.893832</td>\n",
              "    </tr>\n",
              "    <tr>\n",
              "      <th>min</th>\n",
              "      <td>1.000000</td>\n",
              "      <td>1.000000</td>\n",
              "      <td>0.000000</td>\n",
              "    </tr>\n",
              "    <tr>\n",
              "      <th>25%</th>\n",
              "      <td>39015.750000</td>\n",
              "      <td>1861.750000</td>\n",
              "      <td>2.000000</td>\n",
              "    </tr>\n",
              "    <tr>\n",
              "      <th>50%</th>\n",
              "      <td>78030.500000</td>\n",
              "      <td>4017.000000</td>\n",
              "      <td>2.000000</td>\n",
              "    </tr>\n",
              "    <tr>\n",
              "      <th>75%</th>\n",
              "      <td>117045.250000</td>\n",
              "      <td>6244.000000</td>\n",
              "      <td>3.000000</td>\n",
              "    </tr>\n",
              "    <tr>\n",
              "      <th>max</th>\n",
              "      <td>156060.000000</td>\n",
              "      <td>8544.000000</td>\n",
              "      <td>4.000000</td>\n",
              "    </tr>\n",
              "  </tbody>\n",
              "</table>\n",
              "</div>"
            ],
            "text/plain": [
              "            PhraseId     SentenceId      Sentiment\n",
              "count  156060.000000  156060.000000  156060.000000\n",
              "mean    78030.500000    4079.732744       2.063578\n",
              "std     45050.785842    2502.764394       0.893832\n",
              "min         1.000000       1.000000       0.000000\n",
              "25%     39015.750000    1861.750000       2.000000\n",
              "50%     78030.500000    4017.000000       2.000000\n",
              "75%    117045.250000    6244.000000       3.000000\n",
              "max    156060.000000    8544.000000       4.000000"
            ]
          },
          "metadata": {
            "tags": []
          },
          "execution_count": 93
        }
      ]
    },
    {
      "cell_type": "code",
      "metadata": {
        "id": "eyARWdF35aeC",
        "colab_type": "code",
        "outputId": "63b832b6-27df-430a-bdcf-538cea14df15",
        "colab": {
          "base_uri": "https://localhost:8080/",
          "height": 51
        }
      },
      "source": [
        "print(\"Total number of sentences: \" + str(data['SentenceId'][-1:].values))\n",
        "print(\"Total number of Phrase: \" + str(data['PhraseId'][-1:].values))\n"
      ],
      "execution_count": 94,
      "outputs": [
        {
          "output_type": "stream",
          "text": [
            "Total number of sentences: [8544]\n",
            "Total number of Phrase: [156060]\n"
          ],
          "name": "stdout"
        }
      ]
    },
    {
      "cell_type": "code",
      "metadata": {
        "id": "xgI4geKDHJQj",
        "colab_type": "code",
        "outputId": "1d4eefa9-33dd-46c4-af8c-2005fab80d97",
        "colab": {
          "base_uri": "https://localhost:8080/",
          "height": 102
        }
      },
      "source": [
        "Counter(text_trigrams).most_common(5)"
      ],
      "execution_count": 95,
      "outputs": [
        {
          "output_type": "execute_result",
          "data": {
            "text/plain": [
              "[(('on', 'year', \"'s\"), 24),\n",
              " (('year', \"'s\", 'best'), 21),\n",
              " (('good', 'act', 'good'), 15),\n",
              " ((\"'s\", 'best', 'film'), 15),\n",
              " (('movy', 'i', \"'ve\"), 13)]"
            ]
          },
          "metadata": {
            "tags": []
          },
          "execution_count": 95
        }
      ]
    },
    {
      "cell_type": "code",
      "metadata": {
        "id": "wRc_GGab5wPF",
        "colab_type": "code",
        "colab": {}
      },
      "source": [
        "# Get number of unique sentences\n",
        "numSentences = data['SentenceId'].max()"
      ],
      "execution_count": 0,
      "outputs": []
    },
    {
      "cell_type": "code",
      "metadata": {
        "id": "dEEpKRzn5xRs",
        "colab_type": "code",
        "colab": {}
      },
      "source": [
        "# extract full sentences only from the dataset\n",
        "fullSentences = []\n",
        "curSentence = 0\n",
        "for i in range(data.shape[0]):\n",
        "  if data['SentenceId'][i]> curSentence:\n",
        "    fullSentences.append((data['Phrase'][i], data['Sentiment'][i]))\n",
        "    curSentence = curSentence +1"
      ],
      "execution_count": 0,
      "outputs": []
    },
    {
      "cell_type": "code",
      "metadata": {
        "id": "icSruVsK51jn",
        "colab_type": "code",
        "outputId": "66979811-3528-4fee-bf1a-e612c228fad6",
        "colab": {
          "base_uri": "https://localhost:8080/",
          "height": 34
        }
      },
      "source": [
        "len(fullSentences)"
      ],
      "execution_count": 98,
      "outputs": [
        {
          "output_type": "execute_result",
          "data": {
            "text/plain": [
              "8544"
            ]
          },
          "metadata": {
            "tags": []
          },
          "execution_count": 98
        }
      ]
    },
    {
      "cell_type": "code",
      "metadata": {
        "id": "Zk59iuEGHJQm",
        "colab_type": "code",
        "outputId": "edd20357-24b3-40f4-fb8c-1da8feda0bd3",
        "colab": {
          "base_uri": "https://localhost:8080/",
          "height": 71
        }
      },
      "source": [
        "#Tokenize the data train and test\n",
        "tokenizer = TweetTokenizer()\n",
        "vectorizer = TfidfVectorizer(ngram_range=(1, 2), tokenizer=tokenizer.tokenize)\n",
        "full_text = list(train['clean_review'].values) + list(test['clean_review'].values)\n",
        "vectorizer.fit(full_text)\n",
        "train_vectorized = vectorizer.transform(train['clean_review'])\n",
        "test_vectorized = vectorizer.transform(test['clean_review'])\n",
        "test1 = test['clean_review']\n",
        "\n",
        "y = train['Sentiment']"
      ],
      "execution_count": 99,
      "outputs": [
        {
          "output_type": "stream",
          "text": [
            "/usr/local/lib/python3.6/dist-packages/sklearn/feature_extraction/text.py:507: UserWarning: The parameter 'token_pattern' will not be used since 'tokenizer' is not None'\n",
            "  warnings.warn(\"The parameter 'token_pattern' will not be used\"\n"
          ],
          "name": "stderr"
        }
      ]
    },
    {
      "cell_type": "code",
      "metadata": {
        "id": "2yKjhsO2HJQo",
        "colab_type": "code",
        "colab": {}
      },
      "source": [
        "#Tokenize the data train and test with 3-gram\n",
        "#tokenizer = TweetTokenizer()\n",
        "#vectorizer3 = TfidfVectorizer(ngram_range=(1, 3), tokenizer=tokenizer.tokenize)\n",
        "#full_text = list(train['clean_review'].values) + list(test['clean_review'].values)\n",
        "#vectorizer3.fit(full_text)\n",
        "#train_vectorized3 = vectorizer3.transform(train['clean_review'])\n",
        "#test_vectorized3 = vectorizer3.transform(test['clean_review'])\n",
        "#test1 = test['clean_review']\n",
        "#y = train['Sentiment']"
      ],
      "execution_count": 0,
      "outputs": []
    },
    {
      "cell_type": "code",
      "metadata": {
        "id": "X3waFgjk6AZ0",
        "colab_type": "code",
        "outputId": "9148c4c2-d525-4f71-f0a9-68bfba7f6fce",
        "colab": {
          "base_uri": "https://localhost:8080/",
          "height": 119
        }
      },
      "source": [
        "# Check class imbalance in tokenized sentences\n",
        "data['Sentiment'].value_counts()"
      ],
      "execution_count": 101,
      "outputs": [
        {
          "output_type": "execute_result",
          "data": {
            "text/plain": [
              "2    79582\n",
              "3    32927\n",
              "1    27273\n",
              "4     9206\n",
              "0     7072\n",
              "Name: Sentiment, dtype: int64"
            ]
          },
          "metadata": {
            "tags": []
          },
          "execution_count": 101
        }
      ]
    },
    {
      "cell_type": "markdown",
      "metadata": {
        "id": "udU8mRiLHJRE",
        "colab_type": "text"
      },
      "source": [
        "## Splitting train dataset into train and valedation\n",
        "\n",
        "\n",
        "\n"
      ]
    },
    {
      "cell_type": "code",
      "metadata": {
        "id": "bULKu7MFTr43",
        "colab_type": "code",
        "outputId": "9429b106-1a41-41ac-eb6e-a408d8b3411a",
        "colab": {
          "base_uri": "https://localhost:8080/",
          "height": 136
        }
      },
      "source": [
        "\n",
        "from keras.utils import to_categorical\n",
        "X = train['clean_review']\n",
        "Y = to_categorical(train['Sentiment'].values)\n",
        "print(Y)"
      ],
      "execution_count": 102,
      "outputs": [
        {
          "output_type": "stream",
          "text": [
            "[[0. 0. 1. 0. 0.]\n",
            " [0. 0. 0. 0. 1.]\n",
            " [0. 0. 1. 0. 0.]\n",
            " ...\n",
            " [0. 1. 0. 0. 0.]\n",
            " [0. 0. 1. 0. 0.]\n",
            " [0. 0. 1. 0. 0.]]\n"
          ],
          "name": "stdout"
        }
      ]
    },
    {
      "cell_type": "code",
      "metadata": {
        "id": "f8sTn4V2HJRF",
        "colab_type": "code",
        "colab": {}
      },
      "source": [
        "from sklearn.model_selection import train_test_split\n",
        "X_train, X_val, Y_train, Y_val = train_test_split(X, Y, test_size=0.25, random_state=2003)"
      ],
      "execution_count": 0,
      "outputs": []
    },
    {
      "cell_type": "code",
      "metadata": {
        "id": "Abk_xlRXHJRI",
        "colab_type": "code",
        "outputId": "15bb9569-a391-4db8-cb17-c97e7586efe2",
        "colab": {
          "base_uri": "https://localhost:8080/",
          "height": 51
        }
      },
      "source": [
        "\n",
        "print(X_train.shape,Y_train.shape)\n",
        "print(X_val.shape,Y_val.shape)"
      ],
      "execution_count": 104,
      "outputs": [
        {
          "output_type": "stream",
          "text": [
            "(81931,) (81931, 5)\n",
            "(27311,) (27311, 5)\n"
          ],
          "name": "stdout"
        }
      ]
    },
    {
      "cell_type": "code",
      "metadata": {
        "id": "b0m-9gaxHJRK",
        "colab_type": "code",
        "colab": {}
      },
      "source": [
        "from keras.preprocessing.text import Tokenizer\n",
        "from keras.preprocessing.sequence import pad_sequences\n",
        "from keras.utils import to_categorical"
      ],
      "execution_count": 0,
      "outputs": []
    },
    {
      "cell_type": "markdown",
      "metadata": {
        "id": "4VPzZF_mHJRM",
        "colab_type": "text"
      },
      "source": [
        "## Counting number words and features"
      ]
    },
    {
      "cell_type": "code",
      "metadata": {
        "id": "BFh_7kiFHJRM",
        "colab_type": "code",
        "outputId": "ff97bd2e-7076-44bc-b8ef-977c4cb2ca65",
        "colab": {
          "base_uri": "https://localhost:8080/",
          "height": 34
        }
      },
      "source": [
        "all_words=' '.join(X_train)\n",
        "all_words=word_tokenize(all_words)\n",
        "#print(all_words)\n",
        "dist=FreqDist(all_words)\n",
        "\n",
        "num_unique_word=len(dist)\n",
        "num_unique_word\n",
        "#X_train.head()"
      ],
      "execution_count": 106,
      "outputs": [
        {
          "output_type": "execute_result",
          "data": {
            "text/plain": [
              "9481"
            ]
          },
          "metadata": {
            "tags": []
          },
          "execution_count": 106
        }
      ]
    },
    {
      "cell_type": "markdown",
      "metadata": {
        "id": "Z28qRSYSHJRO",
        "colab_type": "text"
      },
      "source": [
        "## Number of words for each phrase/text"
      ]
    },
    {
      "cell_type": "code",
      "metadata": {
        "id": "oNkIipBeHJRP",
        "colab_type": "code",
        "outputId": "f7922d21-8c5a-4108-915d-d92a2a6c8c50",
        "colab": {
          "base_uri": "https://localhost:8080/",
          "height": 34
        }
      },
      "source": [
        "r_len=[]\n",
        "for text in X_train:\n",
        "    word=word_tokenize(text)\n",
        "  #  print(text)\n",
        "    l=len(word)\n",
        "    r_len.append(l)\n",
        "    \n",
        "MAX_REVIEW_LEN=np.max(r_len)\n",
        "MAX_REVIEW_LEN"
      ],
      "execution_count": 107,
      "outputs": [
        {
          "output_type": "execute_result",
          "data": {
            "text/plain": [
              "32"
            ]
          },
          "metadata": {
            "tags": []
          },
          "execution_count": 107
        }
      ]
    },
    {
      "cell_type": "code",
      "metadata": {
        "id": "zePuiZuSHJRR",
        "colab_type": "code",
        "outputId": "fb4eb9a5-ef6b-47b0-a966-be282849dbfa",
        "colab": {
          "base_uri": "https://localhost:8080/",
          "height": 34
        }
      },
      "source": [
        "#Setting features\n",
        "max_features = num_unique_word\n",
        "max_words = MAX_REVIEW_LEN\n",
        "batch_size = 128\n",
        "epochs = 50\n",
        "num_classes=5\n",
        "MAX_REVIEW_LEN"
      ],
      "execution_count": 108,
      "outputs": [
        {
          "output_type": "execute_result",
          "data": {
            "text/plain": [
              "32"
            ]
          },
          "metadata": {
            "tags": []
          },
          "execution_count": 108
        }
      ]
    },
    {
      "cell_type": "code",
      "metadata": {
        "id": "OtPyklBQHJRU",
        "colab_type": "code",
        "colab": {}
      },
      "source": [
        "from tensorflow.python.keras.models import Sequential\n",
        "from tensorflow.python.keras.layers import Dense, GRU, Embedding\n",
        "from tensorflow.python.keras.optimizers import Adam\n",
        "from tensorflow.python.keras.preprocessing.text import Tokenizer\n",
        "from tensorflow.python.keras.preprocessing.sequence import pad_sequences"
      ],
      "execution_count": 0,
      "outputs": []
    },
    {
      "cell_type": "markdown",
      "metadata": {
        "id": "0anN84lJHJRW",
        "colab_type": "text"
      },
      "source": [
        "## Tokenizing the words"
      ]
    },
    {
      "cell_type": "code",
      "metadata": {
        "id": "SrKsVKsxHJRX",
        "colab_type": "code",
        "outputId": "923cc562-92bb-417d-ede8-db4d385af86f",
        "colab": {
          "base_uri": "https://localhost:8080/",
          "height": 0
        }
      },
      "source": [
        "X_train"
      ],
      "execution_count": 110,
      "outputs": [
        {
          "output_type": "execute_result",
          "data": {
            "text/plain": [
              "85120                                     fin work\n",
              "131627                                         rat\n",
              "65198              complet wash lrb pun intend rrb\n",
              "78173                                         view\n",
              "36846                           kiddy fantasy pabl\n",
              "                            ...                   \n",
              "155021                                cal work art\n",
              "119255    level crud latest austin pow extravaganz\n",
              "65844                                     app skil\n",
              "19120                  toward maxim comfort famili\n",
              "73183                                         nant\n",
              "Name: clean_review, Length: 81931, dtype: object"
            ]
          },
          "metadata": {
            "tags": []
          },
          "execution_count": 110
        }
      ]
    },
    {
      "cell_type": "code",
      "metadata": {
        "id": "13Ht99ggTMhG",
        "colab_type": "code",
        "colab": {}
      },
      "source": [
        "tokenizer = Tokenizer(num_words=max_features)\n",
        "tokenizer.fit_on_texts(X_train)\n",
        "X_train = tokenizer.texts_to_sequences(X_train)\n",
        "X_val = tokenizer.texts_to_sequences(X_val)\n",
        "\n",
        "X_test = tokenizer.texts_to_sequences(test1)\n",
        "#X_test"
      ],
      "execution_count": 0,
      "outputs": []
    },
    {
      "cell_type": "code",
      "metadata": {
        "id": "LdkfIqLHXOMG",
        "colab_type": "code",
        "outputId": "cf7e5c35-96c2-4e26-eaaa-df43645266b0",
        "colab": {
          "base_uri": "https://localhost:8080/",
          "height": 0
        }
      },
      "source": [
        "np.array(X_train).shape"
      ],
      "execution_count": 112,
      "outputs": [
        {
          "output_type": "execute_result",
          "data": {
            "text/plain": [
              "(81931,)"
            ]
          },
          "metadata": {
            "tags": []
          },
          "execution_count": 112
        }
      ]
    },
    {
      "cell_type": "code",
      "metadata": {
        "id": "7y_nDJ3oI-ah",
        "colab_type": "code",
        "outputId": "888de9a2-05bb-46ec-b9d4-533382e0f986",
        "colab": {
          "base_uri": "https://localhost:8080/",
          "height": 0
        }
      },
      "source": [
        "totalNumWords = [len(one_comment) for one_comment in X_train]\n",
        "plt.hist(totalNumWords,bins = 30)\n",
        "plt.show()"
      ],
      "execution_count": 113,
      "outputs": [
        {
          "output_type": "display_data",
          "data": {
            "image/png": "[encoded data removed]",
            "text/plain": [
              "<Figure size 432x288 with 1 Axes>"
            ]
          },
          "metadata": {
            "tags": []
          }
        }
      ]
    },
    {
      "cell_type": "code",
      "metadata": {
        "id": "A5nYUfRfHJRa",
        "colab_type": "code",
        "colab": {}
      },
      "source": [
        "from keras.preprocessing import sequence,text\n",
        "from keras.preprocessing.text import Tokenizer\n",
        "from keras.models import Sequential\n",
        "from keras.preprocessing.sequence import pad_sequences"
      ],
      "execution_count": 0,
      "outputs": []
    },
    {
      "cell_type": "markdown",
      "metadata": {
        "id": "65FuYhPTHJRe",
        "colab_type": "text"
      },
      "source": [
        "## Sequence padding"
      ]
    },
    {
      "cell_type": "code",
      "metadata": {
        "id": "0cJJb-tUHJRe",
        "colab_type": "code",
        "outputId": "aa68fc6b-b39f-47a9-ccef-fee5101b53ae",
        "colab": {
          "base_uri": "https://localhost:8080/",
          "height": 34
        }
      },
      "source": [
        "np.array(X_train).shape"
      ],
      "execution_count": 115,
      "outputs": [
        {
          "output_type": "execute_result",
          "data": {
            "text/plain": [
              "(81931,)"
            ]
          },
          "metadata": {
            "tags": []
          },
          "execution_count": 115
        }
      ]
    },
    {
      "cell_type": "code",
      "metadata": {
        "id": "C96h8pfnTRiY",
        "colab_type": "code",
        "outputId": "609d57b1-695c-4810-f4ea-928edd83e800",
        "colab": {
          "base_uri": "https://localhost:8080/",
          "height": 136
        }
      },
      "source": [
        "\n",
        "from keras.preprocessing import sequence,text\n",
        "from keras.preprocessing.text import Tokenizer\n",
        "from keras.models import Sequential\n",
        "from keras.preprocessing.sequence import pad_sequences\n",
        "X_train = sequence.pad_sequences(X_train, maxlen=max_words)\n",
        "X_val = sequence.pad_sequences(X_val, maxlen=max_words)\n",
        "X_test = sequence.pad_sequences(X_test, maxlen=max_words)\n",
        "#print(X_train.shape,X_val.shape)\n",
        "X_test"
      ],
      "execution_count": 116,
      "outputs": [
        {
          "output_type": "execute_result",
          "data": {
            "text/plain": [
              "array([[   0,    0,    0, ...,    0,    0,    0],\n",
              "       [   0,    0,    0, ...,    0,    0,   63],\n",
              "       [   0,    0,    0, ...,    0,    0,   10],\n",
              "       ...,\n",
              "       [   0,    0,    0, ...,   10,  198, 2288],\n",
              "       [   0,    0,    0, ...,    0,    0,    1],\n",
              "       [   0,    0,    0, ...,    0, 4512, 1005]], dtype=int32)"
            ]
          },
          "metadata": {
            "tags": []
          },
          "execution_count": 116
        }
      ]
    },
    {
      "cell_type": "code",
      "metadata": {
        "id": "NZMf-eQnTQCQ",
        "colab_type": "code",
        "outputId": "d678e93c-fb6b-4dd4-98b4-f5044070f205",
        "colab": {
          "base_uri": "https://localhost:8080/",
          "height": 54
        }
      },
      "source": [
        "print(data.iloc[0]['Phrase'],'Sentiment - ',data.iloc[0]['Sentiment'])"
      ],
      "execution_count": 117,
      "outputs": [
        {
          "output_type": "stream",
          "text": [
            "A series of escapades demonstrating the adage that what is good for the goose is also good for the gander , some of which occasionally amuses but none of which amounts to much of a story . Sentiment -  1\n"
          ],
          "name": "stdout"
        }
      ]
    },
    {
      "cell_type": "code",
      "metadata": {
        "id": "ITlT3bjT6mRK",
        "colab_type": "code",
        "outputId": "642cc1b9-378e-4ae5-b710-c4c3e073a5d1",
        "colab": {
          "base_uri": "https://localhost:8080/",
          "height": 404
        }
      },
      "source": [
        "# Now, let's see the average number of words per Phrase\n",
        "plt.figure(figsize=(10, 6))\n",
        "plt.hist([len(sample) for sample in list(data['Phrase'])], 100)\n",
        "plt.xlabel('Length of Phrase')\n",
        "plt.ylabel('Number of Phrase')\n",
        "plt.title('Phrase length distribution')\n",
        "plt.show()"
      ],
      "execution_count": 118,
      "outputs": [
        {
          "output_type": "display_data",
          "data": {
            "image/png": "[encoded data removed]",
            "text/plain": [
              "<Figure size 720x432 with 1 Axes>"
            ]
          },
          "metadata": {
            "tags": []
          }
        }
      ]
    },
    {
      "cell_type": "code",
      "metadata": {
        "id": "CDLuP4kjHJRh",
        "colab_type": "code",
        "colab": {}
      },
      "source": [
        "from keras.preprocessing import sequence,text\n",
        "from keras.preprocessing.text import Tokenizer\n",
        "from keras.models import Sequential\n",
        "from keras.layers import Dense,Dropout,Embedding,LSTM,Conv1D,GlobalMaxPooling1D,Flatten,MaxPooling1D,GRU,SpatialDropout1D,Bidirectional\n",
        "from keras.callbacks import EarlyStopping\n",
        "from keras.utils import to_categorical\n",
        "from keras.losses import categorical_crossentropy\n",
        "from keras.optimizers import Adam\n",
        "from sklearn.model_selection import train_test_split\n",
        "from sklearn.metrics import accuracy_score,confusion_matrix,classification_report,f1_score\n",
        "import matplotlib.pyplot as plt"
      ],
      "execution_count": 0,
      "outputs": []
    },
    {
      "cell_type": "markdown",
      "metadata": {
        "id": "Dtij0tYTHJRt",
        "colab_type": "text"
      },
      "source": [
        "## CNN Model with softmax activation "
      ]
    },
    {
      "cell_type": "code",
      "metadata": {
        "id": "IOqEMTyWHJRu",
        "colab_type": "code",
        "colab": {}
      },
      "source": [
        "from keras.layers import Input, Dense, Embedding, Flatten\n",
        "from keras.layers import SpatialDropout1D\n",
        "from keras.layers.convolutional import Conv1D, MaxPooling1D\n",
        "from keras.models import Sequential"
      ],
      "execution_count": 0,
      "outputs": []
    },
    {
      "cell_type": "code",
      "metadata": {
        "id": "hG7WArtmHJRv",
        "colab_type": "code",
        "colab": {}
      },
      "source": [
        "model = Sequential()\n",
        "\n",
        "# Input / Embdedding\n",
        "model.add(Embedding(max_features, 150, input_length=max_words))\n",
        "\n",
        "# CNN\n",
        "model.add(SpatialDropout1D(0.2))\n",
        "model.add(Conv1D(32, kernel_size=3, padding='same', activation='relu'))\n",
        "model.add(MaxPooling1D(pool_size=2))\n",
        "\n",
        "model.add(Conv1D(64, kernel_size=3, padding='same', activation='relu'))\n",
        "model.add(MaxPooling1D(pool_size=2))\n",
        "\n",
        "model.add(Flatten())\n",
        "# Output layer\n",
        "model.add(Dense(5, activation='softmax'))\n"
      ],
      "execution_count": 0,
      "outputs": []
    },
    {
      "cell_type": "code",
      "metadata": {
        "id": "C81jgmG9Q98y",
        "colab_type": "code",
        "colab": {}
      },
      "source": [
        "from keras import backend as K\n",
        "\n",
        "def recall_m(y_true, y_pred):\n",
        "    true_positives = K.sum(K.round(K.clip(y_true * y_pred, 0, 1)))\n",
        "    possible_positives = K.sum(K.round(K.clip(y_true, 0, 1)))\n",
        "    recall = true_positives / (possible_positives + K.epsilon())\n",
        "    return recall\n",
        "\n",
        "def precision_m(y_true, y_pred):\n",
        "    true_positives = K.sum(K.round(K.clip(y_true * y_pred, 0, 1)))\n",
        "    predicted_positives = K.sum(K.round(K.clip(y_pred, 0, 1)))\n",
        "    precision = true_positives / (predicted_positives + K.epsilon())\n",
        "    return precision\n",
        "\n",
        "def f1_m(y_true, y_pred):\n",
        "    precision = precision_m(y_true, y_pred)\n",
        "    recall = recall_m(y_true, y_pred)\n",
        "    return 2*((precision*recall)/(precision+recall+K.epsilon()))\n"
      ],
      "execution_count": 0,
      "outputs": []
    },
    {
      "cell_type": "code",
      "metadata": {
        "id": "jk5Rk3jTHJRx",
        "colab_type": "code",
        "colab": {
          "base_uri": "https://localhost:8080/",
          "height": 1000
        },
        "outputId": "72eb6d1c-477e-4f89-f702-8cd6c4fd454b"
      },
      "source": [
        "model.summary()\n",
        "model.compile(loss='categorical_crossentropy', optimizer='adam', metrics=['acc',f1_m,precision_m, recall_m])\n",
        "history=model.fit(X_train, Y_train, validation_data=(X_val, Y_val), epochs=epochs, batch_size=batch_size, verbose=1)"
      ],
      "execution_count": 123,
      "outputs": [
        {
          "output_type": "stream",
          "text": [
            "Model: \"sequential_4\"\n",
            "_________________________________________________________________\n",
            "Layer (type)                 Output Shape              Param #   \n",
            "=================================================================\n",
            "embedding_4 (Embedding)      (None, 32, 150)           1422150   \n",
            "_________________________________________________________________\n",
            "spatial_dropout1d_4 (Spatial (None, 32, 150)           0         \n",
            "_________________________________________________________________\n",
            "conv1d_9 (Conv1D)            (None, 32, 32)            14432     \n",
            "_________________________________________________________________\n",
            "max_pooling1d_3 (MaxPooling1 (None, 16, 32)            0         \n",
            "_________________________________________________________________\n",
            "conv1d_10 (Conv1D)           (None, 16, 64)            6208      \n",
            "_________________________________________________________________\n",
            "max_pooling1d_4 (MaxPooling1 (None, 8, 64)             0         \n",
            "_________________________________________________________________\n",
            "flatten_2 (Flatten)          (None, 512)               0         \n",
            "_________________________________________________________________\n",
            "dense_3 (Dense)              (None, 5)                 2565      \n",
            "=================================================================\n",
            "Total params: 1,445,355\n",
            "Trainable params: 1,445,355\n",
            "Non-trainable params: 0\n",
            "_________________________________________________________________\n",
            "Train on 81931 samples, validate on 27311 samples\n",
            "Epoch 1/50\n",
            "81931/81931 [==============================] - 31s 381us/step - loss: 1.0659 - acc: 0.5767 - f1_m: 0.5161 - precision_m: 0.6636 - recall_m: 0.4274 - val_loss: 0.9483 - val_acc: 0.6136 - val_f1_m: 0.5527 - val_precision_m: 0.6887 - val_recall_m: 0.4622\n",
            "Epoch 2/50\n",
            "81931/81931 [==============================] - 31s 372us/step - loss: 0.8439 - acc: 0.6561 - f1_m: 0.6309 - precision_m: 0.7023 - recall_m: 0.5734 - val_loss: 0.8912 - val_acc: 0.6319 - val_f1_m: 0.6113 - val_precision_m: 0.6665 - val_recall_m: 0.5649\n",
            "Epoch 3/50\n",
            "81931/81931 [==============================] - 30s 370us/step - loss: 0.7568 - acc: 0.6894 - f1_m: 0.6728 - precision_m: 0.7263 - recall_m: 0.6271 - val_loss: 0.8876 - val_acc: 0.6447 - val_f1_m: 0.6290 - val_precision_m: 0.6753 - val_recall_m: 0.5889\n",
            "Epoch 4/50\n",
            "81931/81931 [==============================] - 31s 372us/step - loss: 0.6924 - acc: 0.7161 - f1_m: 0.7040 - precision_m: 0.7474 - recall_m: 0.6659 - val_loss: 0.8994 - val_acc: 0.6444 - val_f1_m: 0.6302 - val_precision_m: 0.6735 - val_recall_m: 0.5925\n",
            "Epoch 5/50\n",
            "81931/81931 [==============================] - 31s 379us/step - loss: 0.6423 - acc: 0.7349 - f1_m: 0.7263 - precision_m: 0.7625 - recall_m: 0.6938 - val_loss: 0.9153 - val_acc: 0.6344 - val_f1_m: 0.6161 - val_precision_m: 0.6634 - val_recall_m: 0.5753\n",
            "Epoch 6/50\n",
            "81931/81931 [==============================] - 32s 385us/step - loss: 0.6033 - acc: 0.7486 - f1_m: 0.7421 - precision_m: 0.7742 - recall_m: 0.7129 - val_loss: 0.9517 - val_acc: 0.6367 - val_f1_m: 0.6244 - val_precision_m: 0.6566 - val_recall_m: 0.5954\n",
            "Epoch 7/50\n",
            "81931/81931 [==============================] - 31s 376us/step - loss: 0.5679 - acc: 0.7630 - f1_m: 0.7577 - precision_m: 0.7861 - recall_m: 0.7316 - val_loss: 0.9900 - val_acc: 0.6247 - val_f1_m: 0.6161 - val_precision_m: 0.6451 - val_recall_m: 0.5897\n",
            "Epoch 8/50\n",
            "81931/81931 [==============================] - 31s 379us/step - loss: 0.5395 - acc: 0.7733 - f1_m: 0.7688 - precision_m: 0.7947 - recall_m: 0.7448 - val_loss: 1.0289 - val_acc: 0.6261 - val_f1_m: 0.6179 - val_precision_m: 0.6422 - val_recall_m: 0.5955\n",
            "Epoch 9/50\n",
            "81931/81931 [==============================] - 31s 376us/step - loss: 0.5149 - acc: 0.7836 - f1_m: 0.7799 - precision_m: 0.8023 - recall_m: 0.7589 - val_loss: 1.0653 - val_acc: 0.6226 - val_f1_m: 0.6164 - val_precision_m: 0.6391 - val_recall_m: 0.5955\n",
            "Epoch 10/50\n",
            "81931/81931 [==============================] - 31s 378us/step - loss: 0.4943 - acc: 0.7903 - f1_m: 0.7871 - precision_m: 0.8085 - recall_m: 0.7670 - val_loss: 1.0936 - val_acc: 0.6258 - val_f1_m: 0.6196 - val_precision_m: 0.6381 - val_recall_m: 0.6022\n",
            "Epoch 11/50\n",
            "81931/81931 [==============================] - 31s 377us/step - loss: 0.4800 - acc: 0.7957 - f1_m: 0.7924 - precision_m: 0.8122 - recall_m: 0.7737 - val_loss: 1.1384 - val_acc: 0.6265 - val_f1_m: 0.6204 - val_precision_m: 0.6377 - val_recall_m: 0.6042\n",
            "Epoch 12/50\n",
            "81931/81931 [==============================] - 31s 378us/step - loss: 0.4619 - acc: 0.8032 - f1_m: 0.8004 - precision_m: 0.8191 - recall_m: 0.7827 - val_loss: 1.1668 - val_acc: 0.6146 - val_f1_m: 0.6078 - val_precision_m: 0.6268 - val_recall_m: 0.5899\n",
            "Epoch 13/50\n",
            "81931/81931 [==============================] - 31s 373us/step - loss: 0.4496 - acc: 0.8073 - f1_m: 0.8054 - precision_m: 0.8228 - recall_m: 0.7889 - val_loss: 1.1857 - val_acc: 0.6197 - val_f1_m: 0.6142 - val_precision_m: 0.6309 - val_recall_m: 0.5984\n",
            "Epoch 14/50\n",
            "81931/81931 [==============================] - 31s 373us/step - loss: 0.4404 - acc: 0.8101 - f1_m: 0.8085 - precision_m: 0.8256 - recall_m: 0.7923 - val_loss: 1.2073 - val_acc: 0.6169 - val_f1_m: 0.6119 - val_precision_m: 0.6299 - val_recall_m: 0.5950\n",
            "Epoch 15/50\n",
            "81931/81931 [==============================] - 31s 375us/step - loss: 0.4245 - acc: 0.8163 - f1_m: 0.8144 - precision_m: 0.8302 - recall_m: 0.7994 - val_loss: 1.2523 - val_acc: 0.6152 - val_f1_m: 0.6108 - val_precision_m: 0.6264 - val_recall_m: 0.5960\n",
            "Epoch 16/50\n",
            "81931/81931 [==============================] - 31s 373us/step - loss: 0.4173 - acc: 0.8190 - f1_m: 0.8177 - precision_m: 0.8325 - recall_m: 0.8036 - val_loss: 1.2886 - val_acc: 0.6202 - val_f1_m: 0.6171 - val_precision_m: 0.6298 - val_recall_m: 0.6051\n",
            "Epoch 17/50\n",
            "81931/81931 [==============================] - 31s 372us/step - loss: 0.4103 - acc: 0.8233 - f1_m: 0.8215 - precision_m: 0.8363 - recall_m: 0.8074 - val_loss: 1.2958 - val_acc: 0.6172 - val_f1_m: 0.6121 - val_precision_m: 0.6268 - val_recall_m: 0.5982\n",
            "Epoch 18/50\n",
            "81931/81931 [==============================] - 31s 374us/step - loss: 0.4036 - acc: 0.8249 - f1_m: 0.8236 - precision_m: 0.8375 - recall_m: 0.8103 - val_loss: 1.3201 - val_acc: 0.6168 - val_f1_m: 0.6121 - val_precision_m: 0.6267 - val_recall_m: 0.5983\n",
            "Epoch 19/50\n",
            "81931/81931 [==============================] - 31s 375us/step - loss: 0.3939 - acc: 0.8288 - f1_m: 0.8278 - precision_m: 0.8417 - recall_m: 0.8145 - val_loss: 1.3715 - val_acc: 0.6190 - val_f1_m: 0.6156 - val_precision_m: 0.6268 - val_recall_m: 0.6050\n",
            "Epoch 20/50\n",
            "81931/81931 [==============================] - 31s 376us/step - loss: 0.3893 - acc: 0.8315 - f1_m: 0.8306 - precision_m: 0.8437 - recall_m: 0.8181 - val_loss: 1.3933 - val_acc: 0.6178 - val_f1_m: 0.6140 - val_precision_m: 0.6253 - val_recall_m: 0.6031\n",
            "Epoch 21/50\n",
            "81931/81931 [==============================] - 31s 377us/step - loss: 0.3831 - acc: 0.8332 - f1_m: 0.8321 - precision_m: 0.8452 - recall_m: 0.8194 - val_loss: 1.4073 - val_acc: 0.6152 - val_f1_m: 0.6123 - val_precision_m: 0.6247 - val_recall_m: 0.6005\n",
            "Epoch 22/50\n",
            "81931/81931 [==============================] - 31s 383us/step - loss: 0.3783 - acc: 0.8349 - f1_m: 0.8341 - precision_m: 0.8468 - recall_m: 0.8219 - val_loss: 1.3896 - val_acc: 0.6144 - val_f1_m: 0.6111 - val_precision_m: 0.6223 - val_recall_m: 0.6004\n",
            "Epoch 23/50\n",
            "81931/81931 [==============================] - 31s 384us/step - loss: 0.3740 - acc: 0.8372 - f1_m: 0.8364 - precision_m: 0.8484 - recall_m: 0.8248 - val_loss: 1.4125 - val_acc: 0.6189 - val_f1_m: 0.6156 - val_precision_m: 0.6271 - val_recall_m: 0.6046\n",
            "Epoch 24/50\n",
            "81931/81931 [==============================] - 31s 383us/step - loss: 0.3680 - acc: 0.8383 - f1_m: 0.8382 - precision_m: 0.8501 - recall_m: 0.8266 - val_loss: 1.4447 - val_acc: 0.6145 - val_f1_m: 0.6109 - val_precision_m: 0.6214 - val_recall_m: 0.6007\n",
            "Epoch 25/50\n",
            "81931/81931 [==============================] - 31s 381us/step - loss: 0.3644 - acc: 0.8411 - f1_m: 0.8402 - precision_m: 0.8517 - recall_m: 0.8290 - val_loss: 1.4960 - val_acc: 0.6079 - val_f1_m: 0.6054 - val_precision_m: 0.6173 - val_recall_m: 0.5940\n",
            "Epoch 26/50\n",
            "81931/81931 [==============================] - 31s 378us/step - loss: 0.3612 - acc: 0.8417 - f1_m: 0.8407 - precision_m: 0.8523 - recall_m: 0.8295 - val_loss: 1.4920 - val_acc: 0.6146 - val_f1_m: 0.6125 - val_precision_m: 0.6234 - val_recall_m: 0.6021\n",
            "Epoch 27/50\n",
            "81931/81931 [==============================] - 31s 375us/step - loss: 0.3556 - acc: 0.8432 - f1_m: 0.8425 - precision_m: 0.8535 - recall_m: 0.8318 - val_loss: 1.5077 - val_acc: 0.6154 - val_f1_m: 0.6127 - val_precision_m: 0.6235 - val_recall_m: 0.6023\n",
            "Epoch 28/50\n",
            "81931/81931 [==============================] - 31s 379us/step - loss: 0.3539 - acc: 0.8441 - f1_m: 0.8434 - precision_m: 0.8543 - recall_m: 0.8329 - val_loss: 1.5336 - val_acc: 0.6103 - val_f1_m: 0.6085 - val_precision_m: 0.6185 - val_recall_m: 0.5988\n",
            "Epoch 29/50\n",
            "81931/81931 [==============================] - 31s 376us/step - loss: 0.3504 - acc: 0.8465 - f1_m: 0.8463 - precision_m: 0.8566 - recall_m: 0.8363 - val_loss: 1.5344 - val_acc: 0.6106 - val_f1_m: 0.6075 - val_precision_m: 0.6190 - val_recall_m: 0.5964\n",
            "Epoch 30/50\n",
            "81931/81931 [==============================] - 31s 373us/step - loss: 0.3442 - acc: 0.8479 - f1_m: 0.8472 - precision_m: 0.8577 - recall_m: 0.8370 - val_loss: 1.5629 - val_acc: 0.6105 - val_f1_m: 0.6077 - val_precision_m: 0.6173 - val_recall_m: 0.5984\n",
            "Epoch 31/50\n",
            "81931/81931 [==============================] - 31s 374us/step - loss: 0.3437 - acc: 0.8472 - f1_m: 0.8469 - precision_m: 0.8576 - recall_m: 0.8366 - val_loss: 1.5472 - val_acc: 0.6113 - val_f1_m: 0.6071 - val_precision_m: 0.6169 - val_recall_m: 0.5977\n",
            "Epoch 32/50\n",
            "81931/81931 [==============================] - 31s 380us/step - loss: 0.3424 - acc: 0.8492 - f1_m: 0.8487 - precision_m: 0.8588 - recall_m: 0.8389 - val_loss: 1.5457 - val_acc: 0.6062 - val_f1_m: 0.6034 - val_precision_m: 0.6147 - val_recall_m: 0.5927\n",
            "Epoch 33/50\n",
            "81931/81931 [==============================] - 31s 376us/step - loss: 0.3372 - acc: 0.8504 - f1_m: 0.8492 - precision_m: 0.8593 - recall_m: 0.8393 - val_loss: 1.6136 - val_acc: 0.6117 - val_f1_m: 0.6100 - val_precision_m: 0.6197 - val_recall_m: 0.6007\n",
            "Epoch 34/50\n",
            "81931/81931 [==============================] - 31s 375us/step - loss: 0.3342 - acc: 0.8515 - f1_m: 0.8511 - precision_m: 0.8612 - recall_m: 0.8413 - val_loss: 1.6323 - val_acc: 0.6124 - val_f1_m: 0.6098 - val_precision_m: 0.6192 - val_recall_m: 0.6008\n",
            "Epoch 35/50\n",
            "81931/81931 [==============================] - 31s 375us/step - loss: 0.3331 - acc: 0.8521 - f1_m: 0.8512 - precision_m: 0.8611 - recall_m: 0.8416 - val_loss: 1.6028 - val_acc: 0.6064 - val_f1_m: 0.6034 - val_precision_m: 0.6139 - val_recall_m: 0.5934\n",
            "Epoch 36/50\n",
            "81931/81931 [==============================] - 31s 377us/step - loss: 0.3287 - acc: 0.8541 - f1_m: 0.8538 - precision_m: 0.8635 - recall_m: 0.8445 - val_loss: 1.6660 - val_acc: 0.6053 - val_f1_m: 0.6031 - val_precision_m: 0.6127 - val_recall_m: 0.5938\n",
            "Epoch 37/50\n",
            "81931/81931 [==============================] - 31s 378us/step - loss: 0.3296 - acc: 0.8543 - f1_m: 0.8538 - precision_m: 0.8635 - recall_m: 0.8444 - val_loss: 1.6717 - val_acc: 0.6074 - val_f1_m: 0.6047 - val_precision_m: 0.6140 - val_recall_m: 0.5957\n",
            "Epoch 38/50\n",
            "81931/81931 [==============================] - 31s 383us/step - loss: 0.3258 - acc: 0.8551 - f1_m: 0.8545 - precision_m: 0.8638 - recall_m: 0.8455 - val_loss: 1.6989 - val_acc: 0.6145 - val_f1_m: 0.6118 - val_precision_m: 0.6199 - val_recall_m: 0.6039\n",
            "Epoch 39/50\n",
            "81931/81931 [==============================] - 31s 377us/step - loss: 0.3235 - acc: 0.8549 - f1_m: 0.8543 - precision_m: 0.8636 - recall_m: 0.8453 - val_loss: 1.6876 - val_acc: 0.6049 - val_f1_m: 0.6022 - val_precision_m: 0.6119 - val_recall_m: 0.5929\n",
            "Epoch 40/50\n",
            "81931/81931 [==============================] - 31s 375us/step - loss: 0.3205 - acc: 0.8565 - f1_m: 0.8562 - precision_m: 0.8650 - recall_m: 0.8476 - val_loss: 1.7088 - val_acc: 0.6113 - val_f1_m: 0.6093 - val_precision_m: 0.6178 - val_recall_m: 0.6011\n",
            "Epoch 41/50\n",
            "81931/81931 [==============================] - 31s 378us/step - loss: 0.3180 - acc: 0.8587 - f1_m: 0.8583 - precision_m: 0.8670 - recall_m: 0.8498 - val_loss: 1.7163 - val_acc: 0.6104 - val_f1_m: 0.6082 - val_precision_m: 0.6169 - val_recall_m: 0.5997\n",
            "Epoch 42/50\n",
            "81931/81931 [==============================] - 32s 388us/step - loss: 0.3179 - acc: 0.8580 - f1_m: 0.8572 - precision_m: 0.8659 - recall_m: 0.8487 - val_loss: 1.7045 - val_acc: 0.6082 - val_f1_m: 0.6055 - val_precision_m: 0.6151 - val_recall_m: 0.5962\n",
            "Epoch 43/50\n",
            "81931/81931 [==============================] - 31s 383us/step - loss: 0.3166 - acc: 0.8591 - f1_m: 0.8585 - precision_m: 0.8674 - recall_m: 0.8498 - val_loss: 1.7618 - val_acc: 0.6050 - val_f1_m: 0.6029 - val_precision_m: 0.6112 - val_recall_m: 0.5948\n",
            "Epoch 44/50\n",
            "81931/81931 [==============================] - 31s 380us/step - loss: 0.3167 - acc: 0.8572 - f1_m: 0.8565 - precision_m: 0.8657 - recall_m: 0.8476 - val_loss: 1.7226 - val_acc: 0.6072 - val_f1_m: 0.6049 - val_precision_m: 0.6139 - val_recall_m: 0.5961\n",
            "Epoch 45/50\n",
            "81931/81931 [==============================] - 34s 414us/step - loss: 0.3133 - acc: 0.8589 - f1_m: 0.8584 - precision_m: 0.8673 - recall_m: 0.8496 - val_loss: 1.7350 - val_acc: 0.6066 - val_f1_m: 0.6048 - val_precision_m: 0.6140 - val_recall_m: 0.5959\n",
            "Epoch 46/50\n",
            "81931/81931 [==============================] - 31s 378us/step - loss: 0.3105 - acc: 0.8608 - f1_m: 0.8602 - precision_m: 0.8690 - recall_m: 0.8516 - val_loss: 1.7802 - val_acc: 0.6034 - val_f1_m: 0.6012 - val_precision_m: 0.6099 - val_recall_m: 0.5928\n",
            "Epoch 47/50\n",
            "81931/81931 [==============================] - 31s 378us/step - loss: 0.3105 - acc: 0.8594 - f1_m: 0.8597 - precision_m: 0.8684 - recall_m: 0.8512 - val_loss: 1.7819 - val_acc: 0.5934 - val_f1_m: 0.5914 - val_precision_m: 0.6010 - val_recall_m: 0.5822\n",
            "Epoch 48/50\n",
            "81931/81931 [==============================] - 31s 376us/step - loss: 0.3105 - acc: 0.8602 - f1_m: 0.8601 - precision_m: 0.8687 - recall_m: 0.8518 - val_loss: 1.7490 - val_acc: 0.6020 - val_f1_m: 0.5983 - val_precision_m: 0.6081 - val_recall_m: 0.5889\n",
            "Epoch 49/50\n",
            "81931/81931 [==============================] - 31s 377us/step - loss: 0.3053 - acc: 0.8626 - f1_m: 0.8622 - precision_m: 0.8703 - recall_m: 0.8543 - val_loss: 1.8192 - val_acc: 0.6020 - val_f1_m: 0.5999 - val_precision_m: 0.6078 - val_recall_m: 0.5921\n",
            "Epoch 50/50\n",
            "81931/81931 [==============================] - 31s 374us/step - loss: 0.3051 - acc: 0.8621 - f1_m: 0.8614 - precision_m: 0.8696 - recall_m: 0.8535 - val_loss: 1.8239 - val_acc: 0.6109 - val_f1_m: 0.6091 - val_precision_m: 0.6167 - val_recall_m: 0.6017\n"
          ],
          "name": "stdout"
        }
      ]
    },
    {
      "cell_type": "markdown",
      "metadata": {
        "id": "0Qd7WnAySei0",
        "colab_type": "text"
      },
      "source": [
        "# Model evaluation"
      ]
    },
    {
      "cell_type": "code",
      "metadata": {
        "id": "OZYnEL9gHJRy",
        "colab_type": "code",
        "colab": {
          "base_uri": "https://localhost:8080/",
          "height": 119
        },
        "outputId": "9524dfa9-c222-4022-f454-fe78573d6466"
      },
      "source": [
        "loss, accuracy, f1_score, precision, recall = model.evaluate(X_val, Y_val, batch_size=128)\n",
        "print('test accuracy:', accuracy)\n",
        "print('test loss:', loss)\n",
        "print('test f1_score:', f1_score)\n",
        "print('test precision:', precision)\n",
        "print('test recall:', recall)"
      ],
      "execution_count": 125,
      "outputs": [
        {
          "output_type": "stream",
          "text": [
            "27311/27311 [==============================] - 1s 50us/step\n",
            "test accuracy: 0.6108527699308984\n",
            "test loss: 1.8238510752818955\n",
            "test f1_score: 0.6090753041882982\n",
            "test precision: 0.6167373683590449\n",
            "test recall: 0.6016623338428753\n"
          ],
          "name": "stdout"
        }
      ]
    },
    {
      "cell_type": "code",
      "metadata": {
        "id": "jD4XIPo_49io",
        "colab_type": "code",
        "colab": {
          "base_uri": "https://localhost:8080/",
          "height": 279
        },
        "outputId": "41f5f6c7-268a-427a-8d30-0560632c9d4f"
      },
      "source": [
        "# Create count of the number of epochs\n",
        "epoch_count = range(1, len(history.history['loss']) + 1)\n",
        "\n",
        "plt.plot(epoch_count, history.history['loss'], 'r-')\n",
        "plt.plot(epoch_count, history.history['val_loss'], 'b-')\n",
        "\n",
        "plt.xlabel('Epoch')\n",
        "plt.ylabel('accuracy')\n",
        "plt.legend(['Training accuracy', 'Validation accuracy'])\n",
        "\n",
        "\n",
        "plt.show()"
      ],
      "execution_count": 128,
      "outputs": [
        {
          "output_type": "display_data",
          "data": {
            "image/png": "[encoded data removed]",
            "text/plain": [
              "<Figure size 432x288 with 1 Axes>"
            ]
          },
          "metadata": {
            "tags": []
          }
        }
      ]
    },
    {
      "cell_type": "code",
      "metadata": {
        "id": "jWJ4DooVSkJj",
        "colab_type": "code",
        "colab": {
          "base_uri": "https://localhost:8080/",
          "height": 279
        },
        "outputId": "986a324d-6ae8-4e0b-f62d-2b4d75f4410b"
      },
      "source": [
        "\n",
        "# Create count of the number of epochs\n",
        "epoch_count = range(1, len(history.history['loss']) + 1)\n",
        "\n",
        "plt.plot(epoch_count, history.history['loss'], 'r-')\n",
        "plt.plot(epoch_count, history.history['val_loss'], 'b-')\n",
        "plt.plot(epoch_count, history.history['acc'], 'd-')\n",
        "plt.xlabel('Epoch')\n",
        "plt.ylabel('Loss')\n",
        "plt.legend(['Training Loss', 'Validation Loss','accuracy'])\n",
        "\n",
        "\n",
        "plt.show()"
      ],
      "execution_count": 129,
      "outputs": [
        {
          "output_type": "display_data",
          "data": {
            "image/png": "[encoded data removed]",
            "text/plain": [
              "<Figure size 432x288 with 1 Axes>"
            ]
          },
          "metadata": {
            "tags": []
          }
        }
      ]
    },
    {
      "cell_type": "code",
      "metadata": {
        "id": "cmzh_-VM625V",
        "colab_type": "code",
        "colab": {
          "base_uri": "https://localhost:8080/",
          "height": 105
        },
        "outputId": "b3c2197e-3388-438a-b2eb-07a3b2b96940"
      },
      "source": [
        "data['Phrase'].unique()"
      ],
      "execution_count": 130,
      "outputs": [
        {
          "output_type": "execute_result",
          "data": {
            "text/plain": [
              "array(['A series of escapades demonstrating the adage that what is good for the goose is also good for the gander , some of which occasionally amuses but none of which amounts to much of a story .',\n",
              "       'A series of escapades demonstrating the adage that what is good for the goose',\n",
              "       'A series', ..., 'avuncular chortles', 'avuncular', 'chortles'],\n",
              "      dtype=object)"
            ]
          },
          "metadata": {
            "tags": []
          },
          "execution_count": 130
        }
      ]
    },
    {
      "cell_type": "code",
      "metadata": {
        "id": "72vF9DBa63xO",
        "colab_type": "code",
        "colab": {
          "base_uri": "https://localhost:8080/",
          "height": 279
        },
        "outputId": "6d282e1f-a9b2-460c-b058-d22839957df3"
      },
      "source": [
        "# Distribution of reviews is roughly balanced. \n",
        "sns.countplot(data['Sentiment'])\n",
        "plt.show()\n"
      ],
      "execution_count": 131,
      "outputs": [
        {
          "output_type": "display_data",
          "data": {
            "image/png": "[encoded data removed]",
            "text/plain": [
              "<Figure size 432x288 with 1 Axes>"
            ]
          },
          "metadata": {
            "tags": []
          }
        }
      ]
    },
    {
      "cell_type": "code",
      "metadata": {
        "id": "DE8a4Zb_E84B",
        "colab_type": "code",
        "colab": {}
      },
      "source": [
        ""
      ],
      "execution_count": 0,
      "outputs": []
    },
    {
      "cell_type": "code",
      "metadata": {
        "id": "FW0jxTRQ7ErE",
        "colab_type": "code",
        "colab": {
          "base_uri": "https://localhost:8080/",
          "height": 204
        },
        "outputId": "01441d7c-5bfb-40da-824d-2f3a0a11acc5"
      },
      "source": [
        "data['text_length'] = data['Phrase'].apply(len)\n",
        "data[['Sentiment','text_length','Phrase']].head()"
      ],
      "execution_count": 132,
      "outputs": [
        {
          "output_type": "execute_result",
          "data": {
            "text/html": [
              "<div>\n",
              "<style scoped>\n",
              "    .dataframe tbody tr th:only-of-type {\n",
              "        vertical-align: middle;\n",
              "    }\n",
              "\n",
              "    .dataframe tbody tr th {\n",
              "        vertical-align: top;\n",
              "    }\n",
              "\n",
              "    .dataframe thead th {\n",
              "        text-align: right;\n",
              "    }\n",
              "</style>\n",
              "<table border=\"1\" class=\"dataframe\">\n",
              "  <thead>\n",
              "    <tr style=\"text-align: right;\">\n",
              "      <th></th>\n",
              "      <th>Sentiment</th>\n",
              "      <th>text_length</th>\n",
              "      <th>Phrase</th>\n",
              "    </tr>\n",
              "  </thead>\n",
              "  <tbody>\n",
              "    <tr>\n",
              "      <th>0</th>\n",
              "      <td>1</td>\n",
              "      <td>188</td>\n",
              "      <td>A series of escapades demonstrating the adage ...</td>\n",
              "    </tr>\n",
              "    <tr>\n",
              "      <th>1</th>\n",
              "      <td>2</td>\n",
              "      <td>77</td>\n",
              "      <td>A series of escapades demonstrating the adage ...</td>\n",
              "    </tr>\n",
              "    <tr>\n",
              "      <th>2</th>\n",
              "      <td>2</td>\n",
              "      <td>8</td>\n",
              "      <td>A series</td>\n",
              "    </tr>\n",
              "    <tr>\n",
              "      <th>3</th>\n",
              "      <td>2</td>\n",
              "      <td>1</td>\n",
              "      <td>A</td>\n",
              "    </tr>\n",
              "    <tr>\n",
              "      <th>4</th>\n",
              "      <td>2</td>\n",
              "      <td>6</td>\n",
              "      <td>series</td>\n",
              "    </tr>\n",
              "  </tbody>\n",
              "</table>\n",
              "</div>"
            ],
            "text/plain": [
              "   Sentiment  text_length                                             Phrase\n",
              "0          1          188  A series of escapades demonstrating the adage ...\n",
              "1          2           77  A series of escapades demonstrating the adage ...\n",
              "2          2            8                                           A series\n",
              "3          2            1                                                  A\n",
              "4          2            6                                             series"
            ]
          },
          "metadata": {
            "tags": []
          },
          "execution_count": 132
        }
      ]
    },
    {
      "cell_type": "code",
      "metadata": {
        "id": "ZgEqxAyh7Etr",
        "colab_type": "code",
        "colab": {
          "base_uri": "https://localhost:8080/",
          "height": 170
        },
        "outputId": "960e8686-f65e-421b-ed48-0fa8e36dc9f3"
      },
      "source": [
        "data['text_length'].describe()\n"
      ],
      "execution_count": 133,
      "outputs": [
        {
          "output_type": "execute_result",
          "data": {
            "text/plain": [
              "count    156060.000000\n",
              "mean         40.217224\n",
              "std          38.154130\n",
              "min           1.000000\n",
              "25%          14.000000\n",
              "50%          26.000000\n",
              "75%          53.000000\n",
              "max         283.000000\n",
              "Name: text_length, dtype: float64"
            ]
          },
          "metadata": {
            "tags": []
          },
          "execution_count": 133
        }
      ]
    },
    {
      "cell_type": "code",
      "metadata": {
        "id": "vql-VAut7EzG",
        "colab_type": "code",
        "colab": {
          "base_uri": "https://localhost:8080/",
          "height": 366
        },
        "outputId": "3180af8e-6838-49e3-873b-3acd942aea7c"
      },
      "source": [
        "# word cloud\n",
        "from nltk.corpus import stopwords\n",
        "from wordcloud import WordCloud\n",
        "\n",
        "text = data['Phrase'].to_string()\n",
        "wordcloud = WordCloud(\n",
        "        relative_scaling=0.5,\n",
        "        stopwords=set(stopwords.words('english'))).generate(text)\n",
        "\n",
        "plt.figure(figsize=(12,12))\n",
        "plt.imshow(wordcloud)\n",
        "plt.axis(\"off\")\n",
        "plt.show()"
      ],
      "execution_count": 134,
      "outputs": [
        {
          "output_type": "display_data",
          "data": {
            "image/png": "[encoded data removed]",
            "text/plain": [
              "<Figure size 864x864 with 1 Axes>"
            ]
          },
          "metadata": {
            "tags": []
          }
        }
      ]
    },
    {
      "cell_type": "code",
      "metadata": {
        "id": "rR366vgX7E1e",
        "colab_type": "code",
        "colab": {
          "base_uri": "https://localhost:8080/",
          "height": 282
        },
        "outputId": "64c4b824-a295-4b1a-ebd4-87e18326be7f"
      },
      "source": [
        "data['text_length'].hist(bins=50)\n"
      ],
      "execution_count": 135,
      "outputs": [
        {
          "output_type": "execute_result",
          "data": {
            "text/plain": [
              "<matplotlib.axes._subplots.AxesSubplot at 0x7f50785e3828>"
            ]
          },
          "metadata": {
            "tags": []
          },
          "execution_count": 135
        },
        {
          "output_type": "display_data",
          "data": {
            "image/png": "[encoded data removed]",
            "text/plain": [
              "<Figure size 432x288 with 1 Axes>"
            ]
          },
          "metadata": {
            "tags": []
          }
        }
      ]
    },
    {
      "cell_type": "markdown",
      "metadata": {
        "id": "JI6fDwhNa80z",
        "colab_type": "text"
      },
      "source": [
        "The facet grid function can be used to plot histograms and visualize if there are any relationships between review length and review sentiment."
      ]
    },
    {
      "cell_type": "code",
      "metadata": {
        "id": "Qra4gYBW7E44",
        "colab_type": "code",
        "colab": {
          "base_uri": "https://localhost:8080/",
          "height": 242
        },
        "outputId": "9a6577c2-f2bd-4940-afc0-2fb2395ca5a9"
      },
      "source": [
        "g = sns.FacetGrid(data,col='Sentiment')\n",
        "g.map(plt.hist,'text_length')"
      ],
      "execution_count": 136,
      "outputs": [
        {
          "output_type": "execute_result",
          "data": {
            "text/plain": [
              "<seaborn.axisgrid.FacetGrid at 0x7f507fab70b8>"
            ]
          },
          "metadata": {
            "tags": []
          },
          "execution_count": 136
        },
        {
          "output_type": "display_data",
          "data": {
            "image/png": "[encoded data removed]",
            "text/plain": [
              "<Figure size 1080x216 with 5 Axes>"
            ]
          },
          "metadata": {
            "tags": []
          }
        }
      ]
    },
    {
      "cell_type": "code",
      "metadata": {
        "id": "xTJRj5YXtJ4P",
        "colab_type": "code",
        "colab": {
          "base_uri": "https://localhost:8080/",
          "height": 573
        },
        "outputId": "5d89d23c-e153-47bc-cf00-a722c38552e0"
      },
      "source": [
        "plt.plot(epoch_count, history.history['acc'])\n",
        "plt.plot(history.history['val_acc'])\n",
        "\n",
        "plt.title('model accuracy')\n",
        "plt.ylabel('accuracy')\n",
        "plt.xlabel('epoch')\n",
        "plt.legend(['train','test'], loc = 'upper left')\n",
        "plt.show()\n",
        "\n",
        "plt.plot(history.history['loss'])\n",
        "plt.plot(history.history['val_loss'])\n",
        "\n",
        "plt.title('model loss')\n",
        "plt.ylabel('loss')\n",
        "plt.xlabel('epoch')\n",
        "plt.legend(['train','test'], loc = 'upper left')\n",
        "plt.show()"
      ],
      "execution_count": 137,
      "outputs": [
        {
          "output_type": "display_data",
          "data": {
            "image/png": "[encoded data removed]",
            "text/plain": [
              "<Figure size 432x288 with 1 Axes>"
            ]
          },
          "metadata": {
            "tags": []
          }
        },
        {
          "output_type": "display_data",
          "data": {
            "image/png": "[encoded data removed]",
            "text/plain": [
              "<Figure size 432x288 with 1 Axes>"
            ]
          },
          "metadata": {
            "tags": []
          }
        }
      ]
    },
    {
      "cell_type": "code",
      "metadata": {
        "id": "dAMboAAjOAWG",
        "colab_type": "code",
        "colab": {}
      },
      "source": [
        "\n",
        "#Save the model\n",
        "model.save('0873122_1dconv_reg.pt') \n"
      ],
      "execution_count": 0,
      "outputs": []
    }
  ]
}